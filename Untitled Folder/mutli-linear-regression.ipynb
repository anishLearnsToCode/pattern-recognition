{
 "cells": [
  {
   "cell_type": "code",
   "execution_count": 1,
   "metadata": {},
   "outputs": [],
   "source": [
    "import numpy as np\n",
    "import matplotlib.pyplot as plt\n",
    "import pandas as pd"
   ]
  },
  {
   "cell_type": "markdown",
   "metadata": {},
   "source": [
    "$$\\theta = \\begin{bmatrix} \\theta_0 \\theta_1 \\cdots \\theta_n\n",
    "\\end{bmatrix}$$"
   ]
  },
  {
   "cell_type": "markdown",
   "metadata": {},
   "source": [
    "### Hypothesis Function\n",
    "$$\n",
    "h_{\\theta}(x) = \\sum \\theta_i x_i\n",
    "$$\n",
    "\n",
    "```python\n",
    "h_x = x.dot(theta)\n",
    "```"
   ]
  },
  {
   "cell_type": "code",
   "execution_count": 18,
   "metadata": {},
   "outputs": [],
   "source": [
    "def hypothesis(X, theta):\n",
    "    # (m, n + 1) (n + 1, 1) --> (m, 1)\n",
    "    return X.dot(theta)"
   ]
  },
  {
   "cell_type": "markdown",
   "metadata": {},
   "source": [
    "### Cost\n",
    "$$\n",
    "J_{\\theta}(X) = \\frac{1}{m} \\sum (h_{\\theta}(x_i) - y_i) ^ 2\n",
    "$$"
   ]
  },
  {
   "cell_type": "code",
   "execution_count": 22,
   "metadata": {},
   "outputs": [],
   "source": [
    "# X (m , n + 1)\n",
    "# Y (m, 1)\n",
    "# theta (n + 1, 1)\n",
    "def cost(X, Y, theta):\n",
    "    y_hat = hypothesis(X, theta) # (m, 1)\n",
    "    return ((y_hat - Y) ** 2).mean()"
   ]
  },
  {
   "cell_type": "markdown",
   "metadata": {},
   "source": [
    "### Gradient \n",
    "$$\n",
    "\\frac{\\delta J}{\\delta \\theta_j} = \\frac{1}{m} \\Sigma_{i \\in m} (h(x^{(i)}) - y^{(i)}) x^{(i)}_j\n",
    "$$\n",
    "\n",
    "Vectorized will be \n",
    "\n",
    "$$\n",
    "\\frac{\\delta J}{\\delta \\theta} = \\frac{1}{m} X^{T} \\cdot (h(X) - Y)\n",
    "$$\n",
    "\n",
    "```python\n",
    "theta_0 := theta_0 - lr * (dJ/dtheta_0)\n",
    "    \n",
    "vectorized\n",
    "theta := theta - lr * (dJ / d theta)\n",
    "```"
   ]
  },
  {
   "cell_type": "code",
   "execution_count": 25,
   "metadata": {},
   "outputs": [],
   "source": [
    "def gradient(X, Y, theta): # (n + 1, 1) [dJ/dheta0 dJ/theta1 dJ/theta2 .... dJ/thetan_n]\n",
    "    m, _ = X.shape\n",
    "    y_hat = hypothesis(X, theta)\n",
    "    return X.T.dot(y_hat - Y) / m"
   ]
  },
  {
   "cell_type": "code",
   "execution_count": 76,
   "metadata": {},
   "outputs": [],
   "source": [
    "# X : (m, n)\n",
    "# Y : (m, 1)\n",
    "def gradient_descent(X, Y, lr=.01, max_iter=100):\n",
    "    m, n = X.shape\n",
    "    theta = np.zeros((n, 1))\n",
    "    costs = [] \n",
    "    for i in range(max_iter):\n",
    "        error = cost(X, Y, theta)\n",
    "        costs.append(error)\n",
    "        \n",
    "        theta -= lr * gradient(X, Y, theta)\n",
    "        \n",
    "        if i % 100 == 0:\n",
    "            print(f'cost at iteration {i} is {error}')\n",
    "    return theta, costs"
   ]
  },
  {
   "cell_type": "code",
   "execution_count": 31,
   "metadata": {},
   "outputs": [],
   "source": [
    "X = np.array([[1], [2], [3]])\n",
    "Y = np.array([[2], [4], [6]])"
   ]
  },
  {
   "cell_type": "code",
   "execution_count": 32,
   "metadata": {},
   "outputs": [
    {
     "data": {
      "text/plain": [
       "array([[1],\n",
       "       [2],\n",
       "       [3]])"
      ]
     },
     "execution_count": 32,
     "metadata": {},
     "output_type": "execute_result"
    }
   ],
   "source": [
    "X"
   ]
  },
  {
   "cell_type": "code",
   "execution_count": 33,
   "metadata": {},
   "outputs": [
    {
     "data": {
      "text/plain": [
       "array([[2],\n",
       "       [4],\n",
       "       [6]])"
      ]
     },
     "execution_count": 33,
     "metadata": {},
     "output_type": "execute_result"
    }
   ],
   "source": [
    "Y"
   ]
  },
  {
   "cell_type": "code",
   "execution_count": 51,
   "metadata": {},
   "outputs": [
    {
     "name": "stdout",
     "output_type": "stream",
     "text": [
      "cost at iteration 0 is 18.666666666666668\n",
      "cost at iteration 100 is 0.0069421952994092465\n",
      "cost at iteration 200 is 0.0006182407514972809\n",
      "cost at iteration 300 is 5.505774619225086e-05\n",
      "cost at iteration 400 is 4.9031957347173775e-06\n",
      "cost at iteration 500 is 4.3665660285140465e-07\n",
      "cost at iteration 600 is 3.8886677002024186e-08\n",
      "cost at iteration 700 is 3.463072900751758e-09\n",
      "cost at iteration 800 is 3.0840572762668495e-10\n",
      "cost at iteration 900 is 2.7465229742111603e-11\n"
     ]
    }
   ],
   "source": [
    "theta, costs = gradient_descent(X, Y, lr=.1, max_iter=1_000)"
   ]
  },
  {
   "cell_type": "code",
   "execution_count": 52,
   "metadata": {},
   "outputs": [
    {
     "data": {
      "image/png": "[encoded data removed]",
      "text/plain": [
       "<Figure size 432x288 with 1 Axes>"
      ]
     },
     "metadata": {
      "needs_background": "light"
     },
     "output_type": "display_data"
    }
   ],
   "source": [
    "plt.plot(costs)\n",
    "plt.show()"
   ]
  },
  {
   "cell_type": "code",
   "execution_count": 53,
   "metadata": {},
   "outputs": [
    {
     "data": {
      "text/plain": [
       "array([[4.12916573e-06],\n",
       "       [1.99999818e+00]])"
      ]
     },
     "execution_count": 53,
     "metadata": {},
     "output_type": "execute_result"
    }
   ],
   "source": [
    "theta"
   ]
  },
  {
   "cell_type": "code",
   "execution_count": 57,
   "metadata": {},
   "outputs": [
    {
     "data": {
      "text/plain": [
       "array([19.99998596])"
      ]
     },
     "execution_count": 57,
     "metadata": {},
     "output_type": "execute_result"
    }
   ],
   "source": [
    "hypothesis(np.array([1, 10]), theta)"
   ]
  },
  {
   "cell_type": "markdown",
   "metadata": {},
   "source": [
    "## Creating our data\n",
    "```python\n",
    "X: (m, n) --> (m, n + 1)\n",
    "Y: (m, 1)\n",
    "beta: (n + 1, 1)\n",
    "e: (m, 1) -> Normally distributed\n",
    "y = x . beta + e\n",
    "```\n",
    "\n",
    "```python\n",
    "X = np.random.rand(m, n)\n",
    "X = np.insert(X, 0, 1, axis=1)\n",
    "beta = np.random.rand(n + 1, 1)\n",
    "e = np.random.randn(size=())\n",
    "```"
   ]
  },
  {
   "cell_type": "code",
   "execution_count": 112,
   "metadata": {},
   "outputs": [],
   "source": [
    "m, n = 100, 1\n",
    "X = np.random.rand(m, n)\n",
    "X = np.insert(X, 0, 1, axis=1)\n",
    "beta = np.random.rand(n + 1, 1)\n",
    "sigma = .05\n",
    "e = sigma * np.random.randn(m, 1)\n",
    "Y = X.dot(beta) + e"
   ]
  },
  {
   "cell_type": "code",
   "execution_count": 113,
   "metadata": {},
   "outputs": [
    {
     "data": {
      "text/plain": [
       "(100, 2)"
      ]
     },
     "execution_count": 113,
     "metadata": {},
     "output_type": "execute_result"
    }
   ],
   "source": [
    "X.shape"
   ]
  },
  {
   "cell_type": "code",
   "execution_count": 114,
   "metadata": {},
   "outputs": [
    {
     "data": {
      "text/plain": [
       "(100, 1)"
      ]
     },
     "execution_count": 114,
     "metadata": {},
     "output_type": "execute_result"
    }
   ],
   "source": [
    "Y.shape"
   ]
  },
  {
   "cell_type": "code",
   "execution_count": 115,
   "metadata": {},
   "outputs": [
    {
     "name": "stdout",
     "output_type": "stream",
     "text": [
      "cost at iteration 0 is 2.0990841836113927\n",
      "cost at iteration 100 is 0.002046989175823256\n",
      "cost at iteration 200 is 0.002035071838787807\n",
      "cost at iteration 300 is 0.0020350546330887304\n",
      "cost at iteration 400 is 0.0020350546082479413\n",
      "cost at iteration 500 is 0.0020350546082120776\n",
      "cost at iteration 600 is 0.0020350546082120264\n",
      "cost at iteration 700 is 0.0020350546082120247\n",
      "cost at iteration 800 is 0.002035054608212025\n",
      "cost at iteration 900 is 0.0020350546082120247\n",
      "cost at iteration 1000 is 0.0020350546082120247\n",
      "cost at iteration 1100 is 0.002035054608212025\n",
      "cost at iteration 1200 is 0.002035054608212025\n",
      "cost at iteration 1300 is 0.002035054608212025\n",
      "cost at iteration 1400 is 0.002035054608212025\n",
      "cost at iteration 1500 is 0.002035054608212025\n",
      "cost at iteration 1600 is 0.002035054608212025\n",
      "cost at iteration 1700 is 0.002035054608212025\n",
      "cost at iteration 1800 is 0.002035054608212025\n",
      "cost at iteration 1900 is 0.002035054608212025\n",
      "cost at iteration 2000 is 0.002035054608212025\n",
      "cost at iteration 2100 is 0.002035054608212025\n",
      "cost at iteration 2200 is 0.002035054608212025\n",
      "cost at iteration 2300 is 0.002035054608212025\n",
      "cost at iteration 2400 is 0.002035054608212025\n",
      "cost at iteration 2500 is 0.002035054608212025\n",
      "cost at iteration 2600 is 0.002035054608212025\n",
      "cost at iteration 2700 is 0.002035054608212025\n",
      "cost at iteration 2800 is 0.002035054608212025\n",
      "cost at iteration 2900 is 0.002035054608212025\n",
      "cost at iteration 3000 is 0.002035054608212025\n",
      "cost at iteration 3100 is 0.002035054608212025\n",
      "cost at iteration 3200 is 0.002035054608212025\n",
      "cost at iteration 3300 is 0.002035054608212025\n",
      "cost at iteration 3400 is 0.002035054608212025\n",
      "cost at iteration 3500 is 0.002035054608212025\n",
      "cost at iteration 3600 is 0.002035054608212025\n",
      "cost at iteration 3700 is 0.002035054608212025\n",
      "cost at iteration 3800 is 0.002035054608212025\n",
      "cost at iteration 3900 is 0.002035054608212025\n",
      "cost at iteration 4000 is 0.002035054608212025\n",
      "cost at iteration 4100 is 0.002035054608212025\n",
      "cost at iteration 4200 is 0.002035054608212025\n",
      "cost at iteration 4300 is 0.002035054608212025\n",
      "cost at iteration 4400 is 0.002035054608212025\n",
      "cost at iteration 4500 is 0.002035054608212025\n",
      "cost at iteration 4600 is 0.002035054608212025\n",
      "cost at iteration 4700 is 0.002035054608212025\n",
      "cost at iteration 4800 is 0.002035054608212025\n",
      "cost at iteration 4900 is 0.002035054608212025\n",
      "cost at iteration 5000 is 0.002035054608212025\n",
      "cost at iteration 5100 is 0.002035054608212025\n",
      "cost at iteration 5200 is 0.002035054608212025\n",
      "cost at iteration 5300 is 0.002035054608212025\n",
      "cost at iteration 5400 is 0.002035054608212025\n",
      "cost at iteration 5500 is 0.002035054608212025\n",
      "cost at iteration 5600 is 0.002035054608212025\n",
      "cost at iteration 5700 is 0.002035054608212025\n",
      "cost at iteration 5800 is 0.002035054608212025\n",
      "cost at iteration 5900 is 0.002035054608212025\n",
      "cost at iteration 6000 is 0.002035054608212025\n",
      "cost at iteration 6100 is 0.002035054608212025\n",
      "cost at iteration 6200 is 0.002035054608212025\n",
      "cost at iteration 6300 is 0.002035054608212025\n",
      "cost at iteration 6400 is 0.002035054608212025\n",
      "cost at iteration 6500 is 0.002035054608212025\n",
      "cost at iteration 6600 is 0.002035054608212025\n",
      "cost at iteration 6700 is 0.002035054608212025\n",
      "cost at iteration 6800 is 0.002035054608212025\n",
      "cost at iteration 6900 is 0.002035054608212025\n",
      "cost at iteration 7000 is 0.002035054608212025\n",
      "cost at iteration 7100 is 0.002035054608212025\n",
      "cost at iteration 7200 is 0.002035054608212025\n",
      "cost at iteration 7300 is 0.002035054608212025\n",
      "cost at iteration 7400 is 0.002035054608212025\n",
      "cost at iteration 7500 is 0.002035054608212025\n",
      "cost at iteration 7600 is 0.002035054608212025\n",
      "cost at iteration 7700 is 0.002035054608212025\n",
      "cost at iteration 7800 is 0.002035054608212025\n",
      "cost at iteration 7900 is 0.002035054608212025\n",
      "cost at iteration 8000 is 0.002035054608212025\n",
      "cost at iteration 8100 is 0.002035054608212025\n",
      "cost at iteration 8200 is 0.002035054608212025\n",
      "cost at iteration 8300 is 0.002035054608212025\n",
      "cost at iteration 8400 is 0.002035054608212025\n",
      "cost at iteration 8500 is 0.002035054608212025\n",
      "cost at iteration 8600 is 0.002035054608212025\n",
      "cost at iteration 8700 is 0.002035054608212025\n",
      "cost at iteration 8800 is 0.002035054608212025\n",
      "cost at iteration 8900 is 0.002035054608212025\n",
      "cost at iteration 9000 is 0.002035054608212025\n",
      "cost at iteration 9100 is 0.002035054608212025\n",
      "cost at iteration 9200 is 0.002035054608212025\n",
      "cost at iteration 9300 is 0.002035054608212025\n",
      "cost at iteration 9400 is 0.002035054608212025\n",
      "cost at iteration 9500 is 0.002035054608212025\n",
      "cost at iteration 9600 is 0.002035054608212025\n",
      "cost at iteration 9700 is 0.002035054608212025\n",
      "cost at iteration 9800 is 0.002035054608212025\n",
      "cost at iteration 9900 is 0.002035054608212025\n"
     ]
    }
   ],
   "source": [
    "theta, costs = gradient_descent(X, Y, lr=.5, max_iter=10_000)"
   ]
  },
  {
   "cell_type": "code",
   "execution_count": 116,
   "metadata": {},
   "outputs": [
    {
     "data": {
      "image/png": "[encoded data removed]",
      "text/plain": [
       "<Figure size 432x288 with 1 Axes>"
      ]
     },
     "metadata": {
      "needs_background": "light"
     },
     "output_type": "display_data"
    }
   ],
   "source": [
    "plt.plot(costs)\n",
    "plt.show()"
   ]
  },
  {
   "cell_type": "code",
   "execution_count": 119,
   "metadata": {},
   "outputs": [
    {
     "data": {
      "image/png": "[encoded data removed]",
      "text/plain": [
       "<Figure size 432x288 with 1 Axes>"
      ]
     },
     "metadata": {
      "needs_background": "light"
     },
     "output_type": "display_data"
    }
   ],
   "source": [
    "plt.scatter(X[:, 1], Y)\n",
    "plt.scatter(X[:, 1], hypothesis(X, theta))\n",
    "plt.show()"
   ]
  },
  {
   "cell_type": "code",
   "execution_count": 81,
   "metadata": {},
   "outputs": [],
   "source": [
    "def evaluate(Y_actual, Y_pred):\n",
    "    num = ((Y_actual - Y_pred) ** 2).sum()\n",
    "    denom = ((Y_actual - Y_actual.mean()) ** 2).sum()\n",
    "    return (1 - (num / denom)) * 100"
   ]
  },
  {
   "cell_type": "code",
   "execution_count": 120,
   "metadata": {},
   "outputs": [
    {
     "data": {
      "text/plain": [
       "97.20363255343666"
      ]
     },
     "execution_count": 120,
     "metadata": {},
     "output_type": "execute_result"
    }
   ],
   "source": [
    "evaluate(Y, hypothesis(X, theta))"
   ]
  }
 ],
 "metadata": {
  "kernelspec": {
   "display_name": "Python 3",
   "language": "python",
   "name": "python3"
  },
  "language_info": {
   "codemirror_mode": {
    "name": "ipython",
    "version": 3
   },
   "file_extension": ".py",
   "mimetype": "text/x-python",
   "name": "python",
   "nbconvert_exporter": "python",
   "pygments_lexer": "ipython3",
   "version": "3.7.9"
  }
 },
 "nbformat": 4,
 "nbformat_minor": 4
}
