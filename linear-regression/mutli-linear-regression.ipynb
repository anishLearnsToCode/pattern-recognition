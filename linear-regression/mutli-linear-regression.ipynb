{
 "cells": [
  {
   "cell_type": "code",
   "execution_count": 4,
   "metadata": {},
   "outputs": [],
   "source": [
    "import numpy as np\n",
    "import matplotlib.pyplot as plt\n",
    "import pandas as pd"
   ]
  },
  {
   "cell_type": "markdown",
   "metadata": {},
   "source": [
    "$$\\theta = \\begin{bmatrix} \\theta_0 \\theta_1 \\cdots \\theta_n\n",
    "\\end{bmatrix}$$"
   ]
  },
  {
   "cell_type": "markdown",
   "metadata": {},
   "source": [
    "### Hypothesis Function\n",
    "$$\n",
    "h_{\\theta}(x) = \\sum \\theta_i x_i\n",
    "$$\n",
    "\n",
    "```python\n",
    "h_x = x.dot(theta)\n",
    "```"
   ]
  },
  {
   "cell_type": "code",
   "execution_count": 5,
   "metadata": {},
   "outputs": [],
   "source": [
    "def hypothesis(X, theta):\n",
    "    # (m, n + 1) (n + 1, 1) --> (m, 1)\n",
    "    return X.dot(theta)"
   ]
  },
  {
   "cell_type": "markdown",
   "metadata": {},
   "source": [
    "### Cost\n",
    "$$\n",
    "J_{\\theta}(X) = \\frac{1}{m} \\sum (h_{\\theta}(x_i) - y_i) ^ 2\n",
    "$$"
   ]
  },
  {
   "cell_type": "code",
   "execution_count": 6,
   "metadata": {},
   "outputs": [],
   "source": [
    "# X (m , n + 1)\n",
    "# Y (m, 1)\n",
    "# theta (n + 1, 1)\n",
    "def cost(X, Y, theta):\n",
    "    y_hat = hypothesis(X, theta) # (m, 1)\n",
    "    return ((y_hat - Y) ** 2).mean()"
   ]
  },
  {
   "cell_type": "markdown",
   "metadata": {},
   "source": [
    "### Gradient \n",
    "$$\n",
    "\\frac{\\delta J}{\\delta \\theta_j} = \\frac{1}{m} \\Sigma_{i \\in m} (h(x^{(i)}) - y^{(i)}) x^{(i)}_j\n",
    "$$\n",
    "\n",
    "Vectorized will be \n",
    "\n",
    "$$\n",
    "\\frac{\\delta J}{\\delta \\theta} = \\frac{1}{m} X^{T} \\cdot (h(X) - Y)\n",
    "$$\n",
    "\n",
    "```python\n",
    "theta_0 := theta_0 - lr * (dJ/dtheta_0)\n",
    "    \n",
    "vectorized\n",
    "theta := theta - lr * (dJ / d theta)\n",
    "```"
   ]
  },
  {
   "cell_type": "code",
   "execution_count": 7,
   "metadata": {},
   "outputs": [],
   "source": [
    "def gradient(X, Y, theta): # (n + 1, 1) [dJ/dheta0 dJ/theta1 dJ/theta2 .... dJ/thetan_n]\n",
    "    m, _ = X.shape\n",
    "    y_hat = hypothesis(X, theta)\n",
    "    return X.T.dot(y_hat - Y) / m"
   ]
  },
  {
   "cell_type": "code",
   "execution_count": 8,
   "metadata": {},
   "outputs": [],
   "source": [
    "# X : (m, n)\n",
    "# Y : (m, 1)\n",
    "def gradient_descent(X, Y, lr=.01, max_iter=100, verbose=True):\n",
    "    m, n = X.shape\n",
    "    theta = np.zeros((n, 1))\n",
    "    costs = [] \n",
    "    for i in range(max_iter):\n",
    "        error = cost(X, Y, theta)\n",
    "        costs.append(error)\n",
    "        \n",
    "        theta -= lr * gradient(X, Y, theta)\n",
    "        \n",
    "        if i % 100 == 0 and verbose:\n",
    "            print(f'cost at iteration {i} is {error}')\n",
    "    return theta, costs"
   ]
  },
  {
   "cell_type": "code",
   "execution_count": 9,
   "metadata": {},
   "outputs": [],
   "source": [
    "X = np.array([[1], [2], [3]])\n",
    "Y = np.array([[2], [4], [6]])"
   ]
  },
  {
   "cell_type": "code",
   "execution_count": 10,
   "metadata": {},
   "outputs": [
    {
     "data": {
      "text/plain": [
       "array([[1],\n",
       "       [2],\n",
       "       [3]])"
      ]
     },
     "execution_count": 10,
     "metadata": {},
     "output_type": "execute_result"
    }
   ],
   "source": [
    "X"
   ]
  },
  {
   "cell_type": "code",
   "execution_count": 11,
   "metadata": {},
   "outputs": [
    {
     "data": {
      "text/plain": [
       "array([[2],\n",
       "       [4],\n",
       "       [6]])"
      ]
     },
     "execution_count": 11,
     "metadata": {},
     "output_type": "execute_result"
    }
   ],
   "source": [
    "Y"
   ]
  },
  {
   "cell_type": "code",
   "execution_count": 12,
   "metadata": {},
   "outputs": [
    {
     "name": "stdout",
     "output_type": "stream",
     "text": [
      "cost at iteration 0 is 18.666666666666668\n",
      "cost at iteration 100 is 0.0\n",
      "cost at iteration 200 is 0.0\n",
      "cost at iteration 300 is 0.0\n",
      "cost at iteration 400 is 0.0\n",
      "cost at iteration 500 is 0.0\n",
      "cost at iteration 600 is 0.0\n",
      "cost at iteration 700 is 0.0\n",
      "cost at iteration 800 is 0.0\n",
      "cost at iteration 900 is 0.0\n"
     ]
    }
   ],
   "source": [
    "theta, costs = gradient_descent(X, Y, lr=.1, max_iter=1_000)"
   ]
  },
  {
   "cell_type": "code",
   "execution_count": 13,
   "metadata": {},
   "outputs": [
    {
     "data": {
      "image/png": "[encoded data removed]",
      "text/plain": [
       "<Figure size 432x288 with 1 Axes>"
      ]
     },
     "metadata": {
      "needs_background": "light"
     },
     "output_type": "display_data"
    }
   ],
   "source": [
    "plt.plot(costs)\n",
    "plt.show()"
   ]
  },
  {
   "cell_type": "code",
   "execution_count": 14,
   "metadata": {},
   "outputs": [
    {
     "data": {
      "text/plain": [
       "array([[2.]])"
      ]
     },
     "execution_count": 14,
     "metadata": {},
     "output_type": "execute_result"
    }
   ],
   "source": [
    "theta"
   ]
  },
  {
   "cell_type": "code",
   "execution_count": 15,
   "metadata": {},
   "outputs": [
    {
     "ename": "ValueError",
     "evalue": "shapes (2,) and (1,1) not aligned: 2 (dim 0) != 1 (dim 0)",
     "output_type": "error",
     "traceback": [
      "\u001b[1;31m---------------------------------------------------------------------------\u001b[0m",
      "\u001b[1;31mValueError\u001b[0m                                Traceback (most recent call last)",
      "\u001b[1;32m<ipython-input-15-a1ce2797860f>\u001b[0m in \u001b[0;36m<module>\u001b[1;34m\u001b[0m\n\u001b[1;32m----> 1\u001b[1;33m \u001b[0mhypothesis\u001b[0m\u001b[1;33m(\u001b[0m\u001b[0mnp\u001b[0m\u001b[1;33m.\u001b[0m\u001b[0marray\u001b[0m\u001b[1;33m(\u001b[0m\u001b[1;33m[\u001b[0m\u001b[1;36m1\u001b[0m\u001b[1;33m,\u001b[0m \u001b[1;36m10\u001b[0m\u001b[1;33m]\u001b[0m\u001b[1;33m)\u001b[0m\u001b[1;33m,\u001b[0m \u001b[0mtheta\u001b[0m\u001b[1;33m)\u001b[0m\u001b[1;33m\u001b[0m\u001b[1;33m\u001b[0m\u001b[0m\n\u001b[0m",
      "\u001b[1;32m<ipython-input-5-f10997fe4807>\u001b[0m in \u001b[0;36mhypothesis\u001b[1;34m(X, theta)\u001b[0m\n\u001b[0;32m      1\u001b[0m \u001b[1;32mdef\u001b[0m \u001b[0mhypothesis\u001b[0m\u001b[1;33m(\u001b[0m\u001b[0mX\u001b[0m\u001b[1;33m,\u001b[0m \u001b[0mtheta\u001b[0m\u001b[1;33m)\u001b[0m\u001b[1;33m:\u001b[0m\u001b[1;33m\u001b[0m\u001b[1;33m\u001b[0m\u001b[0m\n\u001b[0;32m      2\u001b[0m     \u001b[1;31m# (m, n + 1) (n + 1, 1) --> (m, 1)\u001b[0m\u001b[1;33m\u001b[0m\u001b[1;33m\u001b[0m\u001b[1;33m\u001b[0m\u001b[0m\n\u001b[1;32m----> 3\u001b[1;33m     \u001b[1;32mreturn\u001b[0m \u001b[0mX\u001b[0m\u001b[1;33m.\u001b[0m\u001b[0mdot\u001b[0m\u001b[1;33m(\u001b[0m\u001b[0mtheta\u001b[0m\u001b[1;33m)\u001b[0m\u001b[1;33m\u001b[0m\u001b[1;33m\u001b[0m\u001b[0m\n\u001b[0m",
      "\u001b[1;31mValueError\u001b[0m: shapes (2,) and (1,1) not aligned: 2 (dim 0) != 1 (dim 0)"
     ]
    }
   ],
   "source": [
    "hypothesis(np.array([1, 10]), theta)"
   ]
  },
  {
   "cell_type": "markdown",
   "metadata": {},
   "source": [
    "## Creating our data\n",
    "```python\n",
    "X: (m, n) --> (m, n + 1)\n",
    "Y: (m, 1)\n",
    "beta: (n + 1, 1)\n",
    "e: (m, 1) -> Normally distributed\n",
    "y = x . beta + e\n",
    "```\n",
    "\n",
    "```python\n",
    "X = np.random.rand(m, n)\n",
    "X = np.insert(X, 0, 1, axis=1)\n",
    "beta = np.random.rand(n + 1, 1)\n",
    "e = np.random.randn(size=())\n",
    "```"
   ]
  },
  {
   "cell_type": "code",
   "execution_count": 16,
   "metadata": {},
   "outputs": [],
   "source": [
    "m, n = 100, 1\n",
    "X = np.random.rand(m, n)\n",
    "X = np.insert(X, 0, 1, axis=1)\n",
    "beta = np.random.rand(n + 1, 1)\n",
    "sigma = .05\n",
    "e = sigma * np.random.randn(m, 1)\n",
    "Y = X.dot(beta) + e"
   ]
  },
  {
   "cell_type": "code",
   "execution_count": 21,
   "metadata": {},
   "outputs": [
    {
     "data": {
      "text/plain": [
       "array([[0.96604303],\n",
       "       [1.18959696],\n",
       "       [0.91476998],\n",
       "       [1.05646525],\n",
       "       [1.06173346],\n",
       "       [0.8486796 ],\n",
       "       [1.00809858],\n",
       "       [0.9218713 ],\n",
       "       [0.85957891],\n",
       "       [0.9851405 ],\n",
       "       [1.00525097],\n",
       "       [0.96292358],\n",
       "       [0.88966515],\n",
       "       [1.04484773],\n",
       "       [1.06407288],\n",
       "       [0.85476762],\n",
       "       [1.09471009],\n",
       "       [0.95335555],\n",
       "       [1.0330013 ],\n",
       "       [1.11046282],\n",
       "       [1.07312057],\n",
       "       [1.10015087],\n",
       "       [0.93737042],\n",
       "       [1.03653823],\n",
       "       [0.96238033],\n",
       "       [0.91656214],\n",
       "       [1.08803716],\n",
       "       [0.90217485],\n",
       "       [0.82990728],\n",
       "       [0.97252118],\n",
       "       [0.98860641],\n",
       "       [1.06114941],\n",
       "       [0.88976793],\n",
       "       [0.90619626],\n",
       "       [1.17984296],\n",
       "       [0.9353374 ],\n",
       "       [1.16312038],\n",
       "       [0.96536443],\n",
       "       [0.87135509],\n",
       "       [1.08604472],\n",
       "       [0.96396137],\n",
       "       [0.8987412 ],\n",
       "       [0.92840553],\n",
       "       [1.13051644],\n",
       "       [0.92368239],\n",
       "       [0.94042402],\n",
       "       [1.04142932],\n",
       "       [1.13213341],\n",
       "       [0.95865725],\n",
       "       [1.02215438],\n",
       "       [0.94264621],\n",
       "       [0.94948079],\n",
       "       [1.09031687],\n",
       "       [1.14751354],\n",
       "       [1.07162403],\n",
       "       [1.11022291],\n",
       "       [1.05521405],\n",
       "       [0.91618526],\n",
       "       [1.12240209],\n",
       "       [0.87609851],\n",
       "       [1.1668747 ],\n",
       "       [0.91948342],\n",
       "       [1.19866944],\n",
       "       [1.04576215],\n",
       "       [0.96174489],\n",
       "       [1.02089814],\n",
       "       [1.00362552],\n",
       "       [1.04812911],\n",
       "       [1.03846774],\n",
       "       [0.9926526 ],\n",
       "       [1.11215815],\n",
       "       [1.15524837],\n",
       "       [1.08830102],\n",
       "       [0.90258533],\n",
       "       [1.18167062],\n",
       "       [0.95488436],\n",
       "       [0.88713279],\n",
       "       [0.97276606],\n",
       "       [0.97324716],\n",
       "       [1.15308273],\n",
       "       [0.93718699],\n",
       "       [0.90061169],\n",
       "       [0.9527185 ],\n",
       "       [0.93605395],\n",
       "       [1.10194966],\n",
       "       [1.16411102],\n",
       "       [1.18141963],\n",
       "       [0.92174316],\n",
       "       [1.27634684],\n",
       "       [0.93073202],\n",
       "       [1.02280121],\n",
       "       [0.92931831],\n",
       "       [0.93195026],\n",
       "       [1.06413846],\n",
       "       [1.08137333],\n",
       "       [0.98208289],\n",
       "       [1.08750258],\n",
       "       [0.8760107 ],\n",
       "       [0.9412425 ],\n",
       "       [1.07320036]])"
      ]
     },
     "execution_count": 21,
     "metadata": {},
     "output_type": "execute_result"
    }
   ],
   "source": [
    "Y"
   ]
  },
  {
   "cell_type": "code",
   "execution_count": 114,
   "metadata": {},
   "outputs": [
    {
     "data": {
      "text/plain": [
       "(100, 1)"
      ]
     },
     "execution_count": 114,
     "metadata": {},
     "output_type": "execute_result"
    }
   ],
   "source": [
    "Y.shape"
   ]
  },
  {
   "cell_type": "code",
   "execution_count": 122,
   "metadata": {},
   "outputs": [],
   "source": [
    "theta, costs = gradient_descent(X, Y, lr=.5, max_iter=10_000, verbose=False)"
   ]
  },
  {
   "cell_type": "code",
   "execution_count": 123,
   "metadata": {},
   "outputs": [
    {
     "data": {
      "image/png": "[encoded data removed]",
      "text/plain": [
       "<Figure size 432x288 with 1 Axes>"
      ]
     },
     "metadata": {
      "needs_background": "light"
     },
     "output_type": "display_data"
    }
   ],
   "source": [
    "plt.plot(costs)\n",
    "plt.show()"
   ]
  },
  {
   "cell_type": "code",
   "execution_count": 124,
   "metadata": {},
   "outputs": [
    {
     "data": {
      "image/png": "[encoded data removed]",
      "text/plain": [
       "<Figure size 432x288 with 1 Axes>"
      ]
     },
     "metadata": {
      "needs_background": "light"
     },
     "output_type": "display_data"
    }
   ],
   "source": [
    "plt.scatter(X[:, 1], Y)\n",
    "plt.scatter(X[:, 1], hypothesis(X, theta))\n",
    "plt.show()"
   ]
  },
  {
   "cell_type": "code",
   "execution_count": 81,
   "metadata": {},
   "outputs": [],
   "source": [
    "def evaluate(Y_actual, Y_pred):\n",
    "    num = ((Y_actual - Y_pred) ** 2).sum()\n",
    "    denom = ((Y_actual - Y_actual.mean()) ** 2).sum()\n",
    "    return (1 - (num / denom)) * 100"
   ]
  },
  {
   "cell_type": "code",
   "execution_count": 120,
   "metadata": {},
   "outputs": [
    {
     "data": {
      "text/plain": [
       "97.20363255343666"
      ]
     },
     "execution_count": 120,
     "metadata": {},
     "output_type": "execute_result"
    }
   ],
   "source": [
    "evaluate(Y, hypothesis(X, theta))"
   ]
  }
 ],
 "metadata": {
  "kernelspec": {
   "display_name": "Python 3",
   "language": "python",
   "name": "python3"
  },
  "language_info": {
   "codemirror_mode": {
    "name": "ipython",
    "version": 3
   },
   "file_extension": ".py",
   "mimetype": "text/x-python",
   "name": "python",
   "nbconvert_exporter": "python",
   "pygments_lexer": "ipython3",
   "version": "3.7.9"
  }
 },
 "nbformat": 4,
 "nbformat_minor": 4
}
